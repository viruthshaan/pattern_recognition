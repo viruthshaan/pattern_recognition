{
  "cells": [
    {
      "cell_type": "code",
      "execution_count": null,
      "metadata": {
        "colab": {
          "base_uri": "https://localhost:8080/"
        },
        "id": "giADUA3YuxYK",
        "outputId": "557567aa-1a1c-4d0a-a1cd-7835697b997a"
      },
      "outputs": [
        {
          "output_type": "stream",
          "name": "stdout",
          "text": [
            "Requirement already satisfied: numpy in /usr/local/lib/python3.10/dist-packages (1.23.5)\n",
            "Requirement already satisfied: tensorflow in /usr/local/lib/python3.10/dist-packages (2.14.0)\n",
            "Requirement already satisfied: absl-py>=1.0.0 in /usr/local/lib/python3.10/dist-packages (from tensorflow) (1.4.0)\n",
            "Requirement already satisfied: astunparse>=1.6.0 in /usr/local/lib/python3.10/dist-packages (from tensorflow) (1.6.3)\n",
            "Requirement already satisfied: flatbuffers>=23.5.26 in /usr/local/lib/python3.10/dist-packages (from tensorflow) (23.5.26)\n",
            "Requirement already satisfied: gast!=0.5.0,!=0.5.1,!=0.5.2,>=0.2.1 in /usr/local/lib/python3.10/dist-packages (from tensorflow) (0.5.4)\n",
            "Requirement already satisfied: google-pasta>=0.1.1 in /usr/local/lib/python3.10/dist-packages (from tensorflow) (0.2.0)\n",
            "Requirement already satisfied: h5py>=2.9.0 in /usr/local/lib/python3.10/dist-packages (from tensorflow) (3.9.0)\n",
            "Requirement already satisfied: libclang>=13.0.0 in /usr/local/lib/python3.10/dist-packages (from tensorflow) (16.0.6)\n",
            "Requirement already satisfied: ml-dtypes==0.2.0 in /usr/local/lib/python3.10/dist-packages (from tensorflow) (0.2.0)\n",
            "Requirement already satisfied: numpy>=1.23.5 in /usr/local/lib/python3.10/dist-packages (from tensorflow) (1.23.5)\n",
            "Requirement already satisfied: opt-einsum>=2.3.2 in /usr/local/lib/python3.10/dist-packages (from tensorflow) (3.3.0)\n",
            "Requirement already satisfied: packaging in /usr/local/lib/python3.10/dist-packages (from tensorflow) (23.2)\n",
            "Requirement already satisfied: protobuf!=4.21.0,!=4.21.1,!=4.21.2,!=4.21.3,!=4.21.4,!=4.21.5,<5.0.0dev,>=3.20.3 in /usr/local/lib/python3.10/dist-packages (from tensorflow) (3.20.3)\n",
            "Requirement already satisfied: setuptools in /usr/local/lib/python3.10/dist-packages (from tensorflow) (67.7.2)\n",
            "Requirement already satisfied: six>=1.12.0 in /usr/local/lib/python3.10/dist-packages (from tensorflow) (1.16.0)\n",
            "Requirement already satisfied: termcolor>=1.1.0 in /usr/local/lib/python3.10/dist-packages (from tensorflow) (2.3.0)\n",
            "Requirement already satisfied: typing-extensions>=3.6.6 in /usr/local/lib/python3.10/dist-packages (from tensorflow) (4.5.0)\n",
            "Requirement already satisfied: wrapt<1.15,>=1.11.0 in /usr/local/lib/python3.10/dist-packages (from tensorflow) (1.14.1)\n",
            "Requirement already satisfied: tensorflow-io-gcs-filesystem>=0.23.1 in /usr/local/lib/python3.10/dist-packages (from tensorflow) (0.34.0)\n",
            "Requirement already satisfied: grpcio<2.0,>=1.24.3 in /usr/local/lib/python3.10/dist-packages (from tensorflow) (1.59.3)\n",
            "Requirement already satisfied: tensorboard<2.15,>=2.14 in /usr/local/lib/python3.10/dist-packages (from tensorflow) (2.14.1)\n",
            "Requirement already satisfied: tensorflow-estimator<2.15,>=2.14.0 in /usr/local/lib/python3.10/dist-packages (from tensorflow) (2.14.0)\n",
            "Requirement already satisfied: keras<2.15,>=2.14.0 in /usr/local/lib/python3.10/dist-packages (from tensorflow) (2.14.0)\n",
            "Requirement already satisfied: wheel<1.0,>=0.23.0 in /usr/local/lib/python3.10/dist-packages (from astunparse>=1.6.0->tensorflow) (0.42.0)\n",
            "Requirement already satisfied: google-auth<3,>=1.6.3 in /usr/local/lib/python3.10/dist-packages (from tensorboard<2.15,>=2.14->tensorflow) (2.17.3)\n",
            "Requirement already satisfied: google-auth-oauthlib<1.1,>=0.5 in /usr/local/lib/python3.10/dist-packages (from tensorboard<2.15,>=2.14->tensorflow) (1.0.0)\n",
            "Requirement already satisfied: markdown>=2.6.8 in /usr/local/lib/python3.10/dist-packages (from tensorboard<2.15,>=2.14->tensorflow) (3.5.1)\n",
            "Requirement already satisfied: requests<3,>=2.21.0 in /usr/local/lib/python3.10/dist-packages (from tensorboard<2.15,>=2.14->tensorflow) (2.31.0)\n",
            "Requirement already satisfied: tensorboard-data-server<0.8.0,>=0.7.0 in /usr/local/lib/python3.10/dist-packages (from tensorboard<2.15,>=2.14->tensorflow) (0.7.2)\n",
            "Requirement already satisfied: werkzeug>=1.0.1 in /usr/local/lib/python3.10/dist-packages (from tensorboard<2.15,>=2.14->tensorflow) (3.0.1)\n",
            "Requirement already satisfied: cachetools<6.0,>=2.0.0 in /usr/local/lib/python3.10/dist-packages (from google-auth<3,>=1.6.3->tensorboard<2.15,>=2.14->tensorflow) (5.3.2)\n",
            "Requirement already satisfied: pyasn1-modules>=0.2.1 in /usr/local/lib/python3.10/dist-packages (from google-auth<3,>=1.6.3->tensorboard<2.15,>=2.14->tensorflow) (0.3.0)\n",
            "Requirement already satisfied: rsa<5,>=3.1.4 in /usr/local/lib/python3.10/dist-packages (from google-auth<3,>=1.6.3->tensorboard<2.15,>=2.14->tensorflow) (4.9)\n",
            "Requirement already satisfied: requests-oauthlib>=0.7.0 in /usr/local/lib/python3.10/dist-packages (from google-auth-oauthlib<1.1,>=0.5->tensorboard<2.15,>=2.14->tensorflow) (1.3.1)\n",
            "Requirement already satisfied: charset-normalizer<4,>=2 in /usr/local/lib/python3.10/dist-packages (from requests<3,>=2.21.0->tensorboard<2.15,>=2.14->tensorflow) (3.3.2)\n",
            "Requirement already satisfied: idna<4,>=2.5 in /usr/local/lib/python3.10/dist-packages (from requests<3,>=2.21.0->tensorboard<2.15,>=2.14->tensorflow) (3.6)\n",
            "Requirement already satisfied: urllib3<3,>=1.21.1 in /usr/local/lib/python3.10/dist-packages (from requests<3,>=2.21.0->tensorboard<2.15,>=2.14->tensorflow) (2.0.7)\n",
            "Requirement already satisfied: certifi>=2017.4.17 in /usr/local/lib/python3.10/dist-packages (from requests<3,>=2.21.0->tensorboard<2.15,>=2.14->tensorflow) (2023.11.17)\n",
            "Requirement already satisfied: MarkupSafe>=2.1.1 in /usr/local/lib/python3.10/dist-packages (from werkzeug>=1.0.1->tensorboard<2.15,>=2.14->tensorflow) (2.1.3)\n",
            "Requirement already satisfied: pyasn1<0.6.0,>=0.4.6 in /usr/local/lib/python3.10/dist-packages (from pyasn1-modules>=0.2.1->google-auth<3,>=1.6.3->tensorboard<2.15,>=2.14->tensorflow) (0.5.1)\n",
            "Requirement already satisfied: oauthlib>=3.0.0 in /usr/local/lib/python3.10/dist-packages (from requests-oauthlib>=0.7.0->google-auth-oauthlib<1.1,>=0.5->tensorboard<2.15,>=2.14->tensorflow) (3.2.2)\n"
          ]
        }
      ],
      "source": [
        "!pip install numpy  # Install NumPy\n",
        "!pip install tensorflow  # Install TensorFlow\n",
        "\n",
        "import numpy as np  # Import NumPy\n",
        "%matplotlib inline\n",
        "import matplotlib.image as mpimg\n",
        "import matplotlib.pyplot as plt\n",
        "import tensorflow as tf  # Import TensorFlow\n",
        "tf.compat.v1.set_random_seed(2019)"
      ]
    },
    {
      "cell_type": "code",
      "execution_count": null,
      "metadata": {
        "id": "4ihrBGGoF4Av"
      },
      "outputs": [],
      "source": [
        "from keras.datasets import cifar10\n",
        "(train_images, train_labels), (test_images, test_labels) = cifar10.load_data()\n",
        "\n",
        "train_images, test_images = train_images / 255.0, test_images / 255.0\n",
        "\n"
      ]
    },
    {
      "cell_type": "code",
      "execution_count": null,
      "metadata": {
        "id": "2apkvHPVHYuF"
      },
      "outputs": [],
      "source": [
        "\n",
        "from sklearn.model_selection import train_test_split\n",
        "train_ratio = 0.6\n",
        "validation_ratio = 0.2  # 20% for validation and testing\n",
        "test_ratio = 0.2\n",
        "random_state = 42  # For reproducibility\n",
        "\n",
        "\n",
        "# Split the data into training and the rest (validation + test)\n",
        "train_images, rest_images, train_labels, rest_labels = train_test_split(\n",
        "    train_images, train_labels, test_size=1 - train_ratio, random_state=42)\n",
        "\n",
        "# Split the rest into validation and test sets\n",
        "validation_images, test_images, validation_labels, test_labels = train_test_split(\n",
        "    rest_images, rest_labels, test_size=test_ratio / (validation_ratio + test_ratio), random_state=42)\n"
      ]
    },
    {
      "cell_type": "code",
      "source": [],
      "metadata": {
        "id": "zDwKRAAYJ88y"
      },
      "execution_count": null,
      "outputs": []
    },
    {
      "cell_type": "code",
      "execution_count": null,
      "metadata": {
        "colab": {
          "base_uri": "https://localhost:8080/"
        },
        "id": "XubSObmPu3SH",
        "outputId": "978be2e8-d7ee-4612-9028-a6c82e2514b3"
      },
      "outputs": [
        {
          "output_type": "stream",
          "name": "stdout",
          "text": [
            "Model: \"sequential_1\"\n",
            "_________________________________________________________________\n",
            " Layer (type)                Output Shape              Param #   \n",
            "=================================================================\n",
            " conv2d_3 (Conv2D)           (None, 32, 32, 32)        896       \n",
            "                                                                 \n",
            " batch_normalization_5 (Bat  (None, 32, 32, 32)        128       \n",
            " chNormalization)                                                \n",
            "                                                                 \n",
            " max_pooling2d_3 (MaxPoolin  (None, 16, 16, 32)        0         \n",
            " g2D)                                                            \n",
            "                                                                 \n",
            " conv2d_4 (Conv2D)           (None, 16, 16, 64)        18496     \n",
            "                                                                 \n",
            " batch_normalization_6 (Bat  (None, 16, 16, 64)        256       \n",
            " chNormalization)                                                \n",
            "                                                                 \n",
            " max_pooling2d_4 (MaxPoolin  (None, 8, 8, 64)          0         \n",
            " g2D)                                                            \n",
            "                                                                 \n",
            " conv2d_5 (Conv2D)           (None, 8, 8, 64)          36928     \n",
            "                                                                 \n",
            " batch_normalization_7 (Bat  (None, 8, 8, 64)          256       \n",
            " chNormalization)                                                \n",
            "                                                                 \n",
            " max_pooling2d_5 (MaxPoolin  (None, 4, 4, 64)          0         \n",
            " g2D)                                                            \n",
            "                                                                 \n",
            " flatten_1 (Flatten)         (None, 1024)              0         \n",
            "                                                                 \n",
            " dense_3 (Dense)             (None, 500)               512500    \n",
            "                                                                 \n",
            " batch_normalization_8 (Bat  (None, 500)               2000      \n",
            " chNormalization)                                                \n",
            "                                                                 \n",
            " dense_4 (Dense)             (None, 64)                32064     \n",
            "                                                                 \n",
            " batch_normalization_9 (Bat  (None, 64)                256       \n",
            " chNormalization)                                                \n",
            "                                                                 \n",
            " dropout_1 (Dropout)         (None, 64)                0         \n",
            "                                                                 \n",
            " dense_5 (Dense)             (None, 10)                650       \n",
            "                                                                 \n",
            "=================================================================\n",
            "Total params: 604430 (2.31 MB)\n",
            "Trainable params: 602982 (2.30 MB)\n",
            "Non-trainable params: 1448 (5.66 KB)\n",
            "_________________________________________________________________\n"
          ]
        }
      ],
      "source": [
        "\n",
        "\n",
        "\n",
        "\n",
        "# Define the CNN architecture\n",
        "model = tf.keras.models.Sequential([\n",
        "    tf.keras.layers.Conv2D(32, (3, 3), activation='relu', input_shape=(32, 32, 3), padding='same'),\n",
        "    tf.keras.layers.BatchNormalization(),  # Batch normalization after the first Conv2D layer\n",
        "    tf.keras.layers.MaxPooling2D((2, 2)),\n",
        "    tf.keras.layers.Conv2D(64, (3, 3), activation='relu', padding='same'),\n",
        "    tf.keras.layers.BatchNormalization(),  # Batch normalization after the second Conv2D layer\n",
        "    tf.keras.layers.MaxPooling2D((2, 2)),\n",
        "    tf.keras.layers.Conv2D(64, (3, 3), activation='relu', padding='same'),\n",
        "    tf.keras.layers.BatchNormalization(),  # Batch normalization after the third Conv2D layer\n",
        "    tf.keras.layers.MaxPooling2D((2, 2)),\n",
        "])\n",
        "\n",
        "model.add(tf.keras.layers.Flatten())\n",
        "model.add(tf.keras.layers.Dense(500, activation='relu'))\n",
        "model.add(tf.keras.layers.BatchNormalization())  # Batch normalization after the first fully connected layer\n",
        "model.add(tf.keras.layers.Dense(64, activation='relu'))\n",
        "model.add(tf.keras.layers.BatchNormalization())  # Batch normalization after the second fully connected layer\n",
        "model.add(tf.keras.layers.Dropout(0.2))  # Adding dropout with a rate of 0.23\n",
        "model.add(tf.keras.layers.Dense(10, activation='softmax'))  # Output layer with 10 units and softmax activation\n",
        "\n",
        "\n",
        "# Compile the model with a custom learning rate\n",
        "custom_optimizer = tf.keras.optimizers.Adam(learning_rate=0.002)  # Set the learning rate as 0.01\n",
        "model.compile(optimizer=custom_optimizer,\n",
        "              loss=tf.keras.losses.SparseCategoricalCrossentropy(from_logits=True),\n",
        "              metrics=['accuracy'])\n",
        "\n",
        "model.summary()"
      ]
    },
    {
      "cell_type": "code",
      "execution_count": null,
      "metadata": {
        "colab": {
          "base_uri": "https://localhost:8080/"
        },
        "id": "cL_LddA6FG-L",
        "outputId": "5ac230c2-19c4-419a-d6da-b9f10f5c9fc9"
      },
      "outputs": [
        {
          "output_type": "stream",
          "name": "stdout",
          "text": [
            "Epoch 1/20\n",
            "118/118 [==============================] - 117s 975ms/step - loss: 1.4621 - accuracy: 0.4915 - val_loss: 3.8958 - val_accuracy: 0.1021\n",
            "Epoch 2/20\n",
            "118/118 [==============================] - 98s 829ms/step - loss: 1.0133 - accuracy: 0.6427 - val_loss: 3.0261 - val_accuracy: 0.2087\n",
            "Epoch 3/20\n",
            "118/118 [==============================] - 116s 984ms/step - loss: 0.8193 - accuracy: 0.7122 - val_loss: 1.8199 - val_accuracy: 0.3779\n",
            "Epoch 4/20\n",
            "118/118 [==============================] - 116s 985ms/step - loss: 0.6703 - accuracy: 0.7661 - val_loss: 1.0154 - val_accuracy: 0.6422\n",
            "Epoch 5/20\n",
            "118/118 [==============================] - 96s 813ms/step - loss: 0.5447 - accuracy: 0.8126 - val_loss: 0.7726 - val_accuracy: 0.7252\n",
            "Epoch 6/20\n",
            "118/118 [==============================] - 95s 805ms/step - loss: 0.4442 - accuracy: 0.8455 - val_loss: 0.5400 - val_accuracy: 0.8136\n",
            "Epoch 7/20\n",
            "118/118 [==============================] - 95s 807ms/step - loss: 0.3334 - accuracy: 0.8849 - val_loss: 0.2748 - val_accuracy: 0.9050\n",
            "Epoch 8/20\n",
            "118/118 [==============================] - 95s 801ms/step - loss: 0.2593 - accuracy: 0.9091 - val_loss: 0.2413 - val_accuracy: 0.9158\n",
            "Epoch 9/20\n",
            "118/118 [==============================] - 95s 807ms/step - loss: 0.2289 - accuracy: 0.9219 - val_loss: 0.7802 - val_accuracy: 0.7640\n",
            "Epoch 10/20\n",
            "118/118 [==============================] - 96s 813ms/step - loss: 0.1512 - accuracy: 0.9499 - val_loss: 0.2009 - val_accuracy: 0.9273\n",
            "Epoch 11/20\n",
            "118/118 [==============================] - 95s 809ms/step - loss: 0.1363 - accuracy: 0.9507 - val_loss: 0.3685 - val_accuracy: 0.8782\n",
            "Epoch 12/20\n",
            "118/118 [==============================] - 96s 818ms/step - loss: 0.1048 - accuracy: 0.9635 - val_loss: 0.2474 - val_accuracy: 0.9161\n",
            "Epoch 13/20\n",
            "118/118 [==============================] - 96s 814ms/step - loss: 0.1362 - accuracy: 0.9527 - val_loss: 0.2076 - val_accuracy: 0.9294\n",
            "Epoch 14/20\n",
            "118/118 [==============================] - 97s 825ms/step - loss: 0.0847 - accuracy: 0.9728 - val_loss: 0.0913 - val_accuracy: 0.9685\n",
            "Epoch 15/20\n",
            "118/118 [==============================] - 96s 816ms/step - loss: 0.0803 - accuracy: 0.9729 - val_loss: 0.0875 - val_accuracy: 0.9709\n",
            "Epoch 16/20\n",
            "118/118 [==============================] - 98s 825ms/step - loss: 0.0588 - accuracy: 0.9794 - val_loss: 0.0776 - val_accuracy: 0.9719\n",
            "Epoch 17/20\n",
            "118/118 [==============================] - 96s 816ms/step - loss: 0.0730 - accuracy: 0.9755 - val_loss: 0.1600 - val_accuracy: 0.9452\n",
            "Epoch 18/20\n",
            "118/118 [==============================] - 96s 816ms/step - loss: 0.0914 - accuracy: 0.9685 - val_loss: 0.2496 - val_accuracy: 0.9225\n",
            "Epoch 19/20\n",
            "118/118 [==============================] - 95s 806ms/step - loss: 0.0923 - accuracy: 0.9688 - val_loss: 0.0891 - val_accuracy: 0.9690\n",
            "Epoch 20/20\n",
            "118/118 [==============================] - 95s 801ms/step - loss: 0.0468 - accuracy: 0.9845 - val_loss: 0.0523 - val_accuracy: 0.9826\n"
          ]
        },
        {
          "output_type": "execute_result",
          "data": {
            "text/plain": [
              "<keras.src.callbacks.History at 0x7e553372e6b0>"
            ]
          },
          "metadata": {},
          "execution_count": 12
        }
      ],
      "source": [
        "\n",
        "# Train the model\n",
        "model.fit(train_images, train_labels, epochs=20,batch_size=256,\n",
        "          validation_data=(train_images, train_labels))"
      ]
    },
    {
      "cell_type": "markdown",
      "source": [
        "# New section"
      ],
      "metadata": {
        "id": "CkTNg31X75eF"
      }
    },
    {
      "cell_type": "code",
      "execution_count": null,
      "metadata": {
        "id": "Impp8-aUA_6o",
        "colab": {
          "base_uri": "https://localhost:8080/"
        },
        "outputId": "752abc95-0435-4f20-c675-692423f9ba30"
      },
      "outputs": [
        {
          "output_type": "stream",
          "name": "stdout",
          "text": [
            "313/313 [==============================] - 8s 25ms/step - loss: 1.4570 - accuracy: 0.7176\n",
            "Test loss: 1.456987738609314\n",
            "Test accuracy: 0.7175999879837036\n"
          ]
        }
      ],
      "source": [
        "test_loss, test_accuracy = model.evaluate(test_images, test_labels)\n",
        "print(f'Test loss: {test_loss}')\n",
        "print(f'Test accuracy: {test_accuracy}')"
      ]
    },
    {
      "cell_type": "code",
      "source": [
        "from sklearn.metrics import confusion_matrix, precision_score, recall_score\n",
        "\n",
        "# Get predictions for test data\n",
        "predictions = model.predict(test_images)\n",
        "predicted_labels = np.argmax(predictions, axis=1)\n",
        "\n",
        "# Calculate confusion matrix\n",
        "conf_matrix = confusion_matrix(test_labels, predicted_labels)\n",
        "print(\"Confusion Matrix:\")\n",
        "print(conf_matrix)\n",
        "\n",
        "# Calculate precision and recall\n",
        "precision = precision_score(test_labels, predicted_labels, average='weighted')\n",
        "recall = recall_score(test_labels, predicted_labels, average='weighted')\n",
        "print(f\"Precision: {precision}\")\n",
        "print(f\"Recall: {recall}\")\n"
      ],
      "metadata": {
        "id": "4PEUcXPLC7n_",
        "colab": {
          "base_uri": "https://localhost:8080/"
        },
        "outputId": "54060b70-6f49-47a4-b645-038fd010637c"
      },
      "execution_count": null,
      "outputs": [
        {
          "output_type": "stream",
          "name": "stdout",
          "text": [
            "313/313 [==============================] - 7s 22ms/step\n",
            "Confusion Matrix:\n",
            "[[801  23  73  14  14   9  10  14  24  26]\n",
            " [ 26 876  15   7   7   4  14   3  28  46]\n",
            " [ 60   4 726  56  46  38  66  17   5   4]\n",
            " [ 28   6  99 541  46 150  98  28  12  12]\n",
            " [ 33   8 107  58 630  39  48  39   3   5]\n",
            " [ 17   4  64 192  38 602  48  29   3   6]\n",
            " [  8   4  69  39  27  16 818   0   7   2]\n",
            " [ 15   7  34  61  62  67  14 722   0   6]\n",
            " [115  34  25  10   8   9  22   2 723  12]\n",
            " [ 34 119  16  18   6  21  17  10  35 737]]\n",
            "Precision: 0.7245504411555586\n",
            "Recall: 0.7176\n"
          ]
        }
      ]
    },
    {
      "cell_type": "code",
      "source": [
        "import matplotlib.pyplot as plt\n",
        "\n",
        "learning_rates = [0.0001, 0.001, 0.01, 0.1]\n",
        "for lr in learning_rates:\n",
        "    custom_optimizer = tf.keras.optimizers.Adam(learning_rate=lr)\n",
        "    model.compile(optimizer=custom_optimizer,\n",
        "                  loss=tf.keras.losses.SparseCategoricalCrossentropy(from_logits=True),\n",
        "                  metrics=['accuracy'])\n",
        "\n",
        "    history = model.fit(train_images, train_labels, epochs=10, validation_data=(test_images, test_labels), verbose=0)\n",
        "    plt.plot(history.history['loss'], label=f'LR={lr}')\n",
        "\n",
        "plt.xlabel('Epochs')\n",
        "plt.ylabel('Loss')\n",
        "plt.legend()\n",
        "plt.show()\n"
      ],
      "metadata": {
        "colab": {
          "base_uri": "https://localhost:8080/",
          "height": 504
        },
        "id": "7uVzyoy6vKVD",
        "outputId": "e0252f2b-75d4-420b-8be8-464ab018bd52"
      },
      "execution_count": null,
      "outputs": [
        {
          "metadata": {
            "tags": null
          },
          "name": "stderr",
          "output_type": "stream",
          "text": [
            "/usr/local/lib/python3.10/dist-packages/keras/src/backend.py:5729: UserWarning: \"`sparse_categorical_crossentropy` received `from_logits=True`, but the `output` argument was produced by a Softmax activation and thus does not represent logits. Was this intended?\n",
            "  output, from_logits = _get_logits(\n"
          ]
        },
        {
          "output_type": "display_data",
          "data": {
            "text/plain": [
              "<Figure size 640x480 with 1 Axes>"
            ],
            "image/png": "[encoded data removed]"
          },
          "metadata": {}
        }
      ]
    }
  ],
  "metadata": {
    "colab": {
      "provenance": []
    },
    "kernelspec": {
      "display_name": "Python 3",
      "name": "python3"
    },
    "language_info": {
      "name": "python"
    }
  },
  "nbformat": 4,
  "nbformat_minor": 0
}