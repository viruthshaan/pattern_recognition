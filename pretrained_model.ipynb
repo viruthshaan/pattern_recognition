{
  "nbformat": 4,
  "nbformat_minor": 0,
  "metadata": {
    "colab": {
      "provenance": []
    },
    "kernelspec": {
      "name": "python3",
      "display_name": "Python 3"
    },
    "language_info": {
      "name": "python"
    }
  },
  "cells": [
    {
      "cell_type": "code",
      "source": [],
      "metadata": {
        "id": "PppS2BXiJ_NB"
      },
      "execution_count": null,
      "outputs": []
    },
    {
      "cell_type": "code",
      "execution_count": null,
      "metadata": {
        "colab": {
          "base_uri": "https://localhost:8080/"
        },
        "id": "giADUA3YuxYK",
        "outputId": "067f3f7d-af47-4d8b-c619-4e330e795ffa"
      },
      "outputs": [
        {
          "output_type": "stream",
          "name": "stdout",
          "text": [
            "Requirement already satisfied: numpy in /usr/local/lib/python3.10/dist-packages (1.23.5)\n",
            "Requirement already satisfied: tensorflow in /usr/local/lib/python3.10/dist-packages (2.14.0)\n",
            "Requirement already satisfied: absl-py>=1.0.0 in /usr/local/lib/python3.10/dist-packages (from tensorflow) (1.4.0)\n",
            "Requirement already satisfied: astunparse>=1.6.0 in /usr/local/lib/python3.10/dist-packages (from tensorflow) (1.6.3)\n",
            "Requirement already satisfied: flatbuffers>=23.5.26 in /usr/local/lib/python3.10/dist-packages (from tensorflow) (23.5.26)\n",
            "Requirement already satisfied: gast!=0.5.0,!=0.5.1,!=0.5.2,>=0.2.1 in /usr/local/lib/python3.10/dist-packages (from tensorflow) (0.5.4)\n",
            "Requirement already satisfied: google-pasta>=0.1.1 in /usr/local/lib/python3.10/dist-packages (from tensorflow) (0.2.0)\n",
            "Requirement already satisfied: h5py>=2.9.0 in /usr/local/lib/python3.10/dist-packages (from tensorflow) (3.9.0)\n",
            "Requirement already satisfied: libclang>=13.0.0 in /usr/local/lib/python3.10/dist-packages (from tensorflow) (16.0.6)\n",
            "Requirement already satisfied: ml-dtypes==0.2.0 in /usr/local/lib/python3.10/dist-packages (from tensorflow) (0.2.0)\n",
            "Requirement already satisfied: numpy>=1.23.5 in /usr/local/lib/python3.10/dist-packages (from tensorflow) (1.23.5)\n",
            "Requirement already satisfied: opt-einsum>=2.3.2 in /usr/local/lib/python3.10/dist-packages (from tensorflow) (3.3.0)\n",
            "Requirement already satisfied: packaging in /usr/local/lib/python3.10/dist-packages (from tensorflow) (23.2)\n",
            "Requirement already satisfied: protobuf!=4.21.0,!=4.21.1,!=4.21.2,!=4.21.3,!=4.21.4,!=4.21.5,<5.0.0dev,>=3.20.3 in /usr/local/lib/python3.10/dist-packages (from tensorflow) (3.20.3)\n",
            "Requirement already satisfied: setuptools in /usr/local/lib/python3.10/dist-packages (from tensorflow) (67.7.2)\n",
            "Requirement already satisfied: six>=1.12.0 in /usr/local/lib/python3.10/dist-packages (from tensorflow) (1.16.0)\n",
            "Requirement already satisfied: termcolor>=1.1.0 in /usr/local/lib/python3.10/dist-packages (from tensorflow) (2.3.0)\n",
            "Requirement already satisfied: typing-extensions>=3.6.6 in /usr/local/lib/python3.10/dist-packages (from tensorflow) (4.5.0)\n",
            "Requirement already satisfied: wrapt<1.15,>=1.11.0 in /usr/local/lib/python3.10/dist-packages (from tensorflow) (1.14.1)\n",
            "Requirement already satisfied: tensorflow-io-gcs-filesystem>=0.23.1 in /usr/local/lib/python3.10/dist-packages (from tensorflow) (0.34.0)\n",
            "Requirement already satisfied: grpcio<2.0,>=1.24.3 in /usr/local/lib/python3.10/dist-packages (from tensorflow) (1.59.3)\n",
            "Requirement already satisfied: tensorboard<2.15,>=2.14 in /usr/local/lib/python3.10/dist-packages (from tensorflow) (2.14.1)\n",
            "Requirement already satisfied: tensorflow-estimator<2.15,>=2.14.0 in /usr/local/lib/python3.10/dist-packages (from tensorflow) (2.14.0)\n",
            "Requirement already satisfied: keras<2.15,>=2.14.0 in /usr/local/lib/python3.10/dist-packages (from tensorflow) (2.14.0)\n",
            "Requirement already satisfied: wheel<1.0,>=0.23.0 in /usr/local/lib/python3.10/dist-packages (from astunparse>=1.6.0->tensorflow) (0.42.0)\n",
            "Requirement already satisfied: google-auth<3,>=1.6.3 in /usr/local/lib/python3.10/dist-packages (from tensorboard<2.15,>=2.14->tensorflow) (2.17.3)\n",
            "Requirement already satisfied: google-auth-oauthlib<1.1,>=0.5 in /usr/local/lib/python3.10/dist-packages (from tensorboard<2.15,>=2.14->tensorflow) (1.0.0)\n",
            "Requirement already satisfied: markdown>=2.6.8 in /usr/local/lib/python3.10/dist-packages (from tensorboard<2.15,>=2.14->tensorflow) (3.5.1)\n",
            "Requirement already satisfied: requests<3,>=2.21.0 in /usr/local/lib/python3.10/dist-packages (from tensorboard<2.15,>=2.14->tensorflow) (2.31.0)\n",
            "Requirement already satisfied: tensorboard-data-server<0.8.0,>=0.7.0 in /usr/local/lib/python3.10/dist-packages (from tensorboard<2.15,>=2.14->tensorflow) (0.7.2)\n",
            "Requirement already satisfied: werkzeug>=1.0.1 in /usr/local/lib/python3.10/dist-packages (from tensorboard<2.15,>=2.14->tensorflow) (3.0.1)\n",
            "Requirement already satisfied: cachetools<6.0,>=2.0.0 in /usr/local/lib/python3.10/dist-packages (from google-auth<3,>=1.6.3->tensorboard<2.15,>=2.14->tensorflow) (5.3.2)\n",
            "Requirement already satisfied: pyasn1-modules>=0.2.1 in /usr/local/lib/python3.10/dist-packages (from google-auth<3,>=1.6.3->tensorboard<2.15,>=2.14->tensorflow) (0.3.0)\n",
            "Requirement already satisfied: rsa<5,>=3.1.4 in /usr/local/lib/python3.10/dist-packages (from google-auth<3,>=1.6.3->tensorboard<2.15,>=2.14->tensorflow) (4.9)\n",
            "Requirement already satisfied: requests-oauthlib>=0.7.0 in /usr/local/lib/python3.10/dist-packages (from google-auth-oauthlib<1.1,>=0.5->tensorboard<2.15,>=2.14->tensorflow) (1.3.1)\n",
            "Requirement already satisfied: charset-normalizer<4,>=2 in /usr/local/lib/python3.10/dist-packages (from requests<3,>=2.21.0->tensorboard<2.15,>=2.14->tensorflow) (3.3.2)\n",
            "Requirement already satisfied: idna<4,>=2.5 in /usr/local/lib/python3.10/dist-packages (from requests<3,>=2.21.0->tensorboard<2.15,>=2.14->tensorflow) (3.6)\n",
            "Requirement already satisfied: urllib3<3,>=1.21.1 in /usr/local/lib/python3.10/dist-packages (from requests<3,>=2.21.0->tensorboard<2.15,>=2.14->tensorflow) (2.0.7)\n",
            "Requirement already satisfied: certifi>=2017.4.17 in /usr/local/lib/python3.10/dist-packages (from requests<3,>=2.21.0->tensorboard<2.15,>=2.14->tensorflow) (2023.11.17)\n",
            "Requirement already satisfied: MarkupSafe>=2.1.1 in /usr/local/lib/python3.10/dist-packages (from werkzeug>=1.0.1->tensorboard<2.15,>=2.14->tensorflow) (2.1.3)\n",
            "Requirement already satisfied: pyasn1<0.6.0,>=0.4.6 in /usr/local/lib/python3.10/dist-packages (from pyasn1-modules>=0.2.1->google-auth<3,>=1.6.3->tensorboard<2.15,>=2.14->tensorflow) (0.5.1)\n",
            "Requirement already satisfied: oauthlib>=3.0.0 in /usr/local/lib/python3.10/dist-packages (from requests-oauthlib>=0.7.0->google-auth-oauthlib<1.1,>=0.5->tensorboard<2.15,>=2.14->tensorflow) (3.2.2)\n"
          ]
        }
      ],
      "source": [
        "!pip install numpy  # Install NumPy\n",
        "!pip install tensorflow  # Install TensorFlow\n",
        "\n",
        "import numpy as np  # Import NumPy\n",
        "%matplotlib inline\n",
        "import matplotlib.image as mpimg\n",
        "import matplotlib.pyplot as plt\n",
        "import tensorflow as tf  # Import TensorFlow\n",
        "tf.compat.v1.set_random_seed(2019)"
      ]
    },
    {
      "cell_type": "code",
      "source": [
        "import tensorflow as tf\n",
        "from tensorflow.keras.applications import VGG16\n",
        "from tensorflow.keras.datasets import cifar10\n",
        "from tensorflow.keras.models import Sequential\n",
        "from tensorflow.keras.layers import Dense, Flatten\n",
        "from tensorflow.keras.optimizers import Adam\n",
        "from tensorflow.keras.utils import to_categorical\n",
        "\n",
        "# Load CIFAR-10 dataset\n",
        "(train_images, train_labels), (test_images, test_labels) = cifar10.load_data()\n",
        "\n",
        "# Normalize pixel values between 0 and 1\n",
        "train_images, test_images = train_images / 255.0, test_images / 255.0\n",
        "\n",
        "# Convert labels to one-hot encoded format\n",
        "train_labels = to_categorical(train_labels)\n",
        "test_labels = to_categorical(test_labels)\n",
        "\n",
        "# Load pre-trained VGG16 model without the top classification layer\n",
        "base_model = VGG16(weights='imagenet', include_top=False, input_shape=(32, 32, 3))\n",
        "\n",
        "# Freeze pre-trained layers\n",
        "for layer in base_model.layers:\n",
        "    layer.trainable = False\n",
        "\n",
        "# Create a new model on top of the pre-trained base model\n",
        "model = Sequential()\n",
        "model.add(base_model)\n",
        "model.add(Flatten())\n",
        "model.add(Dense(256, activation='relu'))\n",
        "model.add(Dense(10, activation='softmax'))  # Output layer with 10 classes for CIFAR-10\n",
        "\n",
        "# Compile the model\n",
        "model.compile(optimizer=Adam(lr=0.0005), loss='categorical_crossentropy', metrics=['accuracy'])\n",
        "model.summary()\n",
        "# Train the fine-tuned model\n",
        "model.fit(train_images, train_labels, epochs=20, batch_size=32, validation_data=(test_images, test_labels))\n"
      ],
      "metadata": {
        "colab": {
          "base_uri": "https://localhost:8080/"
        },
        "id": "oxoJcmqGJs5C",
        "outputId": "836ad20d-f49f-41fe-e7ed-23e9b3366c5a"
      },
      "execution_count": null,
      "outputs": [
        {
          "metadata": {
            "tags": null
          },
          "name": "stderr",
          "output_type": "stream",
          "text": [
            "WARNING:absl:`lr` is deprecated in Keras optimizer, please use `learning_rate` or use the legacy optimizer, e.g.,tf.keras.optimizers.legacy.Adam.\n"
          ]
        },
        {
          "output_type": "stream",
          "name": "stdout",
          "text": [
            "Model: \"sequential_7\"\n",
            "_________________________________________________________________\n",
            " Layer (type)                Output Shape              Param #   \n",
            "=================================================================\n",
            " vgg16 (Functional)          (None, 1, 1, 512)         14714688  \n",
            "                                                                 \n",
            " flatten_6 (Flatten)         (None, 512)               0         \n",
            "                                                                 \n",
            " dense_12 (Dense)            (None, 256)               131328    \n",
            "                                                                 \n",
            " dense_13 (Dense)            (None, 10)                2570      \n",
            "                                                                 \n",
            "=================================================================\n",
            "Total params: 14848586 (56.64 MB)\n",
            "Trainable params: 133898 (523.04 KB)\n",
            "Non-trainable params: 14714688 (56.13 MB)\n",
            "_________________________________________________________________\n",
            "Epoch 1/20\n",
            "1563/1563 [==============================] - 748s 478ms/step - loss: 1.3455 - accuracy: 0.5302 - val_loss: 1.2298 - val_accuracy: 0.5687\n",
            "Epoch 2/20\n",
            "1563/1563 [==============================] - 760s 486ms/step - loss: 1.1685 - accuracy: 0.5914 - val_loss: 1.1816 - val_accuracy: 0.5874\n",
            "Epoch 3/20\n",
            "1563/1563 [==============================] - 759s 486ms/step - loss: 1.1052 - accuracy: 0.6144 - val_loss: 1.1467 - val_accuracy: 0.5969\n",
            "Epoch 4/20\n",
            "1563/1563 [==============================] - 739s 473ms/step - loss: 1.0560 - accuracy: 0.6298 - val_loss: 1.1280 - val_accuracy: 0.6046\n",
            "Epoch 5/20\n",
            "1563/1563 [==============================] - 760s 486ms/step - loss: 1.0182 - accuracy: 0.6435 - val_loss: 1.1347 - val_accuracy: 0.6003\n",
            "Epoch 6/20\n",
            "1563/1563 [==============================] - 761s 487ms/step - loss: 0.9808 - accuracy: 0.6545 - val_loss: 1.1094 - val_accuracy: 0.6130\n",
            "Epoch 7/20\n",
            "1563/1563 [==============================] - 761s 487ms/step - loss: 0.9462 - accuracy: 0.6676 - val_loss: 1.1266 - val_accuracy: 0.6084\n",
            "Epoch 8/20\n",
            "1563/1563 [==============================] - 738s 472ms/step - loss: 0.9125 - accuracy: 0.6799 - val_loss: 1.1089 - val_accuracy: 0.6150\n",
            "Epoch 9/20\n",
            "1563/1563 [==============================] - 738s 472ms/step - loss: 0.8827 - accuracy: 0.6895 - val_loss: 1.1193 - val_accuracy: 0.6151\n",
            "Epoch 10/20\n",
            "1563/1563 [==============================] - 760s 486ms/step - loss: 0.8549 - accuracy: 0.7000 - val_loss: 1.1296 - val_accuracy: 0.6137\n",
            "Epoch 11/20\n",
            "1563/1563 [==============================] - 701s 448ms/step - loss: 0.8265 - accuracy: 0.7074 - val_loss: 1.1312 - val_accuracy: 0.6175\n",
            "Epoch 12/20\n",
            "1563/1563 [==============================] - 728s 466ms/step - loss: 0.8019 - accuracy: 0.7165 - val_loss: 1.1501 - val_accuracy: 0.6114\n",
            "Epoch 13/20\n",
            "1563/1563 [==============================] - 727s 465ms/step - loss: 0.7764 - accuracy: 0.7279 - val_loss: 1.1536 - val_accuracy: 0.6154\n",
            "Epoch 14/20\n",
            "1563/1563 [==============================] - 725s 464ms/step - loss: 0.7515 - accuracy: 0.7338 - val_loss: 1.1600 - val_accuracy: 0.6095\n",
            "Epoch 15/20\n",
            "1563/1563 [==============================] - 727s 465ms/step - loss: 0.7285 - accuracy: 0.7430 - val_loss: 1.1808 - val_accuracy: 0.6132\n",
            "Epoch 16/20\n",
            " 468/1563 [=======>......................] - ETA: 6:50 - loss: 0.6858 - accuracy: 0.7619"
          ]
        }
      ]
    },
    {
      "cell_type": "code",
      "source": [
        "import tensorflow as tf\n",
        "from tensorflow.keras.applications import ResNet50\n",
        "from tensorflow.keras.datasets import cifar10\n",
        "from tensorflow.keras.models import Sequential\n",
        "from tensorflow.keras.layers import Dense, Flatten\n",
        "from tensorflow.keras.optimizers import Adam\n",
        "from tensorflow.keras import utils\n",
        "\n",
        "# Load CIFAR-10 dataset\n",
        "(x_train, y_train), (x_test, y_test) = cifar10.load_data()\n",
        "x_train, x_test = x_train / 255.0, x_test / 255.0  # Normalize pixel values to be between 0 and 1\n",
        "\n",
        "# Convert class vectors to binary class matrices\n",
        "y_train = utils.to_categorical(y_train, 10)\n",
        "y_test = utils.to_categorical(y_test, 10)\n",
        "\n",
        "# Load pre-trained ResNet50 model without top layers\n",
        "base_model = ResNet50(weights='imagenet', include_top=False, input_shape=(32, 32, 3))\n",
        "\n",
        "# Add custom layers on top for fine-tuning\n",
        "model = Sequential()\n",
        "model.add(base_model)\n",
        "model.add(Flatten())\n",
        "model.add(Dense(256, activation='relu'))\n",
        "model.add(Dense(10, activation='softmax'))\n",
        "\n",
        "# Freeze the pre-trained layers\n",
        "for layer in base_model.layers:\n",
        "    layer.trainable = False\n",
        "\n",
        "# Compile the model\n",
        "model.compile(optimizer=Adam(lr=0.002), loss='categorical_crossentropy', metrics=['accuracy'])\n",
        "model.summary()\n",
        "# Fine-tune the model\n",
        "model.fit(x_train, y_train, epochs=20, validation_data=(x_test, y_test))"
      ],
      "metadata": {
        "colab": {
          "base_uri": "https://localhost:8080/"
        },
        "id": "ntZTJIRPPVii",
        "outputId": "c7f9df3c-8d47-4217-98f0-1a13b10d35bf"
      },
      "execution_count": null,
      "outputs": [
        {
          "output_type": "stream",
          "name": "stdout",
          "text": [
            "Downloading data from https://storage.googleapis.com/tensorflow/keras-applications/resnet/resnet50_weights_tf_dim_ordering_tf_kernels_notop.h5\n",
            "94765736/94765736 [==============================] - 1s 0us/step\n"
          ]
        },
        {
          "output_type": "stream",
          "name": "stderr",
          "text": [
            "WARNING:absl:`lr` is deprecated in Keras optimizer, please use `learning_rate` or use the legacy optimizer, e.g.,tf.keras.optimizers.legacy.Adam.\n"
          ]
        },
        {
          "output_type": "stream",
          "name": "stdout",
          "text": [
            "Model: \"sequential_6\"\n",
            "_________________________________________________________________\n",
            " Layer (type)                Output Shape              Param #   \n",
            "=================================================================\n",
            " resnet50 (Functional)       (None, 1, 1, 2048)        23587712  \n",
            "                                                                 \n",
            " flatten_5 (Flatten)         (None, 2048)              0         \n",
            "                                                                 \n",
            " dense_10 (Dense)            (None, 256)               524544    \n",
            "                                                                 \n",
            " dense_11 (Dense)            (None, 10)                2570      \n",
            "                                                                 \n",
            "=================================================================\n",
            "Total params: 24114826 (91.99 MB)\n",
            "Trainable params: 527114 (2.01 MB)\n",
            "Non-trainable params: 23587712 (89.98 MB)\n",
            "_________________________________________________________________\n",
            "Epoch 1/20\n",
            "1563/1563 [==============================] - 278s 174ms/step - loss: 2.0367 - accuracy: 0.2584 - val_loss: 1.9869 - val_accuracy: 0.2679\n",
            "Epoch 2/20\n",
            "1563/1563 [==============================] - 272s 174ms/step - loss: 1.8726 - accuracy: 0.3214 - val_loss: 1.8450 - val_accuracy: 0.3249\n",
            "Epoch 3/20\n",
            "1563/1563 [==============================] - 311s 199ms/step - loss: 1.8270 - accuracy: 0.3405 - val_loss: 1.8161 - val_accuracy: 0.3507\n",
            "Epoch 4/20\n",
            "1563/1563 [==============================] - 312s 200ms/step - loss: 1.7948 - accuracy: 0.3514 - val_loss: 1.8367 - val_accuracy: 0.3293\n",
            "Epoch 5/20\n",
            "1563/1563 [==============================] - 309s 198ms/step - loss: 1.7711 - accuracy: 0.3573 - val_loss: 1.7313 - val_accuracy: 0.3701\n",
            "Epoch 6/20\n",
            "1563/1563 [==============================] - 312s 200ms/step - loss: 1.7488 - accuracy: 0.3695 - val_loss: 1.7260 - val_accuracy: 0.3778\n",
            "Epoch 7/20\n",
            "1563/1563 [==============================] - 309s 198ms/step - loss: 1.7392 - accuracy: 0.3732 - val_loss: 1.7688 - val_accuracy: 0.3514\n",
            "Epoch 8/20\n",
            "1563/1563 [==============================] - 311s 199ms/step - loss: 1.7182 - accuracy: 0.3806 - val_loss: 1.6926 - val_accuracy: 0.3963\n",
            "Epoch 9/20\n",
            "1563/1563 [==============================] - 270s 173ms/step - loss: 1.7085 - accuracy: 0.3857 - val_loss: 1.6678 - val_accuracy: 0.3983\n",
            "Epoch 10/20\n",
            "1563/1563 [==============================] - 311s 199ms/step - loss: 1.6969 - accuracy: 0.3902 - val_loss: 1.7462 - val_accuracy: 0.3746\n",
            "Epoch 11/20\n",
            "1563/1563 [==============================] - 310s 198ms/step - loss: 1.6863 - accuracy: 0.3929 - val_loss: 1.7311 - val_accuracy: 0.3730\n",
            "Epoch 12/20\n",
            "1563/1563 [==============================] - 312s 200ms/step - loss: 1.6816 - accuracy: 0.3963 - val_loss: 1.6385 - val_accuracy: 0.4163\n",
            "Epoch 13/20\n",
            "1563/1563 [==============================] - 270s 173ms/step - loss: 1.6789 - accuracy: 0.3984 - val_loss: 1.6832 - val_accuracy: 0.3983\n",
            "Epoch 14/20\n",
            "1563/1563 [==============================] - 312s 200ms/step - loss: 1.6671 - accuracy: 0.4029 - val_loss: 1.6572 - val_accuracy: 0.4098\n",
            "Epoch 15/20\n",
            "1563/1563 [==============================] - 309s 198ms/step - loss: 1.6598 - accuracy: 0.4058 - val_loss: 1.6764 - val_accuracy: 0.4027\n",
            "Epoch 16/20\n",
            "1563/1563 [==============================] - 311s 199ms/step - loss: 1.6575 - accuracy: 0.4041 - val_loss: 1.6402 - val_accuracy: 0.4123\n",
            "Epoch 17/20\n",
            "1563/1563 [==============================] - 309s 198ms/step - loss: 1.6484 - accuracy: 0.4088 - val_loss: 1.6985 - val_accuracy: 0.3897\n",
            "Epoch 18/20\n",
            "1563/1563 [==============================] - 311s 199ms/step - loss: 1.6448 - accuracy: 0.4115 - val_loss: 1.6680 - val_accuracy: 0.4053\n",
            "Epoch 19/20\n",
            "1563/1563 [==============================] - 308s 197ms/step - loss: 1.6443 - accuracy: 0.4080 - val_loss: 1.6346 - val_accuracy: 0.4139\n",
            "Epoch 20/20\n",
            "1563/1563 [==============================] - 270s 173ms/step - loss: 1.6368 - accuracy: 0.4166 - val_loss: 1.6269 - val_accuracy: 0.4125\n"
          ]
        },
        {
          "output_type": "execute_result",
          "data": {
            "text/plain": [
              "<keras.src.callbacks.History at 0x7bb1eda1e080>"
            ]
          },
          "metadata": {},
          "execution_count": 10
        }
      ]
    }
  ]
}